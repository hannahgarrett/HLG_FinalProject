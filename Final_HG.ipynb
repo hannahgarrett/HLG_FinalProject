{
 "cells": [
  {
   "cell_type": "markdown",
   "id": "c4160b38",
   "metadata": {},
   "source": [
    "# Hannah Garrett\n",
    "## Final Project - COVID 19 Outcomes\n",
    "### DS-160-01"
   ]
  },
  {
   "cell_type": "markdown",
   "id": "da2d9110",
   "metadata": {},
   "source": [
    "#### Import libraries"
   ]
  },
  {
   "cell_type": "code",
   "execution_count": 1,
   "id": "2350eca3",
   "metadata": {},
   "outputs": [],
   "source": [
    "import numpy as np\n",
    "import pandas as pd\n",
    "import seaborn as sns\n",
    "import matplotlib.pyplot as plt"
   ]
  },
  {
   "cell_type": "markdown",
   "id": "3125d5c4",
   "metadata": {},
   "source": [
    "#### Import dataset"
   ]
  },
  {
   "cell_type": "code",
   "execution_count": 2,
   "id": "7056eb24",
   "metadata": {},
   "outputs": [
    {
     "data": {
      "text/html": [
       "<div>\n",
       "<style scoped>\n",
       "    .dataframe tbody tr th:only-of-type {\n",
       "        vertical-align: middle;\n",
       "    }\n",
       "\n",
       "    .dataframe tbody tr th {\n",
       "        vertical-align: top;\n",
       "    }\n",
       "\n",
       "    .dataframe thead th {\n",
       "        text-align: right;\n",
       "    }\n",
       "</style>\n",
       "<table border=\"1\" class=\"dataframe\">\n",
       "  <thead>\n",
       "    <tr style=\"text-align: right;\">\n",
       "      <th></th>\n",
       "      <th>Admission_DATE</th>\n",
       "      <th>Discharge_DATE or date of Death</th>\n",
       "      <th>Outcome</th>\n",
       "      <th>Patient Age</th>\n",
       "      <th>Gender</th>\n",
       "      <th>Sample Collection Date</th>\n",
       "      <th>What kind of Treatment provided</th>\n",
       "      <th>Ventilated (Y/N)</th>\n",
       "      <th>Red blood cell distribution width</th>\n",
       "      <th>Monocytes(%)</th>\n",
       "      <th>White blood cell count</th>\n",
       "      <th>Platelet Count</th>\n",
       "      <th>Lymphocyte Count</th>\n",
       "      <th>Neutrophils Count</th>\n",
       "    </tr>\n",
       "  </thead>\n",
       "  <tbody>\n",
       "    <tr>\n",
       "      <th>0</th>\n",
       "      <td>8/10/20</td>\n",
       "      <td>8/8/20</td>\n",
       "      <td>Not Recovered</td>\n",
       "      <td>51</td>\n",
       "      <td>Male</td>\n",
       "      <td>8/10/20</td>\n",
       "      <td>antibiotics,  O2</td>\n",
       "      <td>Yes</td>\n",
       "      <td>13.2</td>\n",
       "      <td>3.3</td>\n",
       "      <td>21.00</td>\n",
       "      <td>462.00</td>\n",
       "      <td>0.44</td>\n",
       "      <td>19.43</td>\n",
       "    </tr>\n",
       "    <tr>\n",
       "      <th>1</th>\n",
       "      <td>7/24/20</td>\n",
       "      <td>8/5/20</td>\n",
       "      <td>Not Recovered</td>\n",
       "      <td>65</td>\n",
       "      <td>Female</td>\n",
       "      <td>7/24/20</td>\n",
       "      <td>Paracetamol, Antibiotics,  O2</td>\n",
       "      <td>Yes</td>\n",
       "      <td>40.0</td>\n",
       "      <td>3.0</td>\n",
       "      <td>8.79</td>\n",
       "      <td>180.66</td>\n",
       "      <td>4.39</td>\n",
       "      <td>7.56</td>\n",
       "    </tr>\n",
       "    <tr>\n",
       "      <th>2</th>\n",
       "      <td>7/22/20</td>\n",
       "      <td>8/8/20</td>\n",
       "      <td>Recovered</td>\n",
       "      <td>32</td>\n",
       "      <td>Male</td>\n",
       "      <td>7/22/20</td>\n",
       "      <td>Antibiotics, O2</td>\n",
       "      <td>No</td>\n",
       "      <td>11.7</td>\n",
       "      <td>5.3</td>\n",
       "      <td>9.90</td>\n",
       "      <td>336.00</td>\n",
       "      <td>3.47</td>\n",
       "      <td>5.34</td>\n",
       "    </tr>\n",
       "    <tr>\n",
       "      <th>3</th>\n",
       "      <td>7/19/20</td>\n",
       "      <td>8/5/20</td>\n",
       "      <td>Recovered</td>\n",
       "      <td>36</td>\n",
       "      <td>Female</td>\n",
       "      <td>7/19/20</td>\n",
       "      <td>Antibiotics, O2</td>\n",
       "      <td>No</td>\n",
       "      <td>13.0</td>\n",
       "      <td>5.0</td>\n",
       "      <td>9.95</td>\n",
       "      <td>240.10</td>\n",
       "      <td>0.80</td>\n",
       "      <td>8.66</td>\n",
       "    </tr>\n",
       "    <tr>\n",
       "      <th>4</th>\n",
       "      <td>7/18/20</td>\n",
       "      <td>8/5/20</td>\n",
       "      <td>Recovered</td>\n",
       "      <td>46</td>\n",
       "      <td>Male</td>\n",
       "      <td>7/18/20</td>\n",
       "      <td>Paracetamol, Antibiotics,  O2</td>\n",
       "      <td>No</td>\n",
       "      <td>31.0</td>\n",
       "      <td>3.0</td>\n",
       "      <td>14.15</td>\n",
       "      <td>236.58</td>\n",
       "      <td>7.93</td>\n",
       "      <td>13.02</td>\n",
       "    </tr>\n",
       "  </tbody>\n",
       "</table>\n",
       "</div>"
      ],
      "text/plain": [
       "  Admission_DATE  Discharge_DATE or date of Death        Outcome  Patient Age  \\\n",
       "0         8/10/20                          8/8/20  Not Recovered           51   \n",
       "1         7/24/20                          8/5/20  Not Recovered           65   \n",
       "2         7/22/20                          8/8/20      Recovered           32   \n",
       "3         7/19/20                          8/5/20      Recovered           36   \n",
       "4         7/18/20                          8/5/20      Recovered           46   \n",
       "\n",
       "   Gender Sample Collection Date  What kind of Treatment provided   \\\n",
       "0    Male                 8/10/20                 antibiotics,  O2   \n",
       "1  Female                 7/24/20    Paracetamol, Antibiotics,  O2   \n",
       "2    Male                 7/22/20                  Antibiotics, O2   \n",
       "3  Female                 7/19/20                  Antibiotics, O2   \n",
       "4    Male                 7/18/20    Paracetamol, Antibiotics,  O2   \n",
       "\n",
       "  Ventilated (Y/N)  Red blood cell distribution width  Monocytes(%)  \\\n",
       "0              Yes                               13.2           3.3   \n",
       "1              Yes                               40.0           3.0   \n",
       "2               No                               11.7           5.3   \n",
       "3               No                               13.0           5.0   \n",
       "4               No                               31.0           3.0   \n",
       "\n",
       "   White blood cell count  Platelet Count  Lymphocyte Count  Neutrophils Count  \n",
       "0                   21.00          462.00              0.44              19.43  \n",
       "1                    8.79          180.66              4.39               7.56  \n",
       "2                    9.90          336.00              3.47               5.34  \n",
       "3                    9.95          240.10              0.80               8.66  \n",
       "4                   14.15          236.58              7.93              13.02  "
      ]
     },
     "execution_count": 2,
     "metadata": {},
     "output_type": "execute_result"
    }
   ],
   "source": [
    "dataset=pd.read_csv(\"COVID-19_CBC_Data.csv\")\n",
    "dataset.head()"
   ]
  },
  {
   "cell_type": "code",
   "execution_count": 3,
   "id": "c86c5e1f",
   "metadata": {},
   "outputs": [
    {
     "name": "stdout",
     "output_type": "stream",
     "text": [
      "<class 'pandas.core.frame.DataFrame'>\n",
      "RangeIndex: 309 entries, 0 to 308\n",
      "Data columns (total 14 columns):\n",
      " #   Column                             Non-Null Count  Dtype  \n",
      "---  ------                             --------------  -----  \n",
      " 0   Admission_DATE                     309 non-null    object \n",
      " 1   Discharge_DATE or date of Death    309 non-null    object \n",
      " 2   Outcome                            309 non-null    object \n",
      " 3   Patient Age                        309 non-null    int64  \n",
      " 4   Gender                             309 non-null    object \n",
      " 5   Sample Collection Date             309 non-null    object \n",
      " 6   What kind of Treatment provided    309 non-null    object \n",
      " 7   Ventilated (Y/N)                   309 non-null    object \n",
      " 8   Red blood cell distribution width  309 non-null    float64\n",
      " 9   Monocytes(%)                       309 non-null    float64\n",
      " 10  White blood cell count             309 non-null    float64\n",
      " 11  Platelet Count                     309 non-null    float64\n",
      " 12  Lymphocyte Count                   309 non-null    float64\n",
      " 13  Neutrophils Count                  309 non-null    float64\n",
      "dtypes: float64(6), int64(1), object(7)\n",
      "memory usage: 33.9+ KB\n"
     ]
    }
   ],
   "source": [
    "dataset.info()"
   ]
  },
  {
   "cell_type": "markdown",
   "id": "5b99be88",
   "metadata": {},
   "source": [
    "#### Cleaning the dataset"
   ]
  },
  {
   "cell_type": "code",
   "execution_count": 4,
   "id": "68fe3c90",
   "metadata": {},
   "outputs": [
    {
     "data": {
      "text/html": [
       "<div>\n",
       "<style scoped>\n",
       "    .dataframe tbody tr th:only-of-type {\n",
       "        vertical-align: middle;\n",
       "    }\n",
       "\n",
       "    .dataframe tbody tr th {\n",
       "        vertical-align: top;\n",
       "    }\n",
       "\n",
       "    .dataframe thead th {\n",
       "        text-align: right;\n",
       "    }\n",
       "</style>\n",
       "<table border=\"1\" class=\"dataframe\">\n",
       "  <thead>\n",
       "    <tr style=\"text-align: right;\">\n",
       "      <th></th>\n",
       "      <th>a_date</th>\n",
       "      <th>d_date</th>\n",
       "      <th>outcome</th>\n",
       "      <th>patient_age</th>\n",
       "      <th>gender</th>\n",
       "      <th>collection_date</th>\n",
       "      <th>treatment</th>\n",
       "      <th>ventilated</th>\n",
       "      <th>rbc_dis</th>\n",
       "      <th>monocytes</th>\n",
       "      <th>wbc_count</th>\n",
       "      <th>plate_count</th>\n",
       "      <th>lymph_count</th>\n",
       "      <th>neut_count</th>\n",
       "    </tr>\n",
       "  </thead>\n",
       "  <tbody>\n",
       "    <tr>\n",
       "      <th>0</th>\n",
       "      <td>8/10/20</td>\n",
       "      <td>8/8/20</td>\n",
       "      <td>Not Recovered</td>\n",
       "      <td>51</td>\n",
       "      <td>Male</td>\n",
       "      <td>8/10/20</td>\n",
       "      <td>antibiotics,  O2</td>\n",
       "      <td>Yes</td>\n",
       "      <td>13.2</td>\n",
       "      <td>3.3</td>\n",
       "      <td>21.00</td>\n",
       "      <td>462.00</td>\n",
       "      <td>0.44</td>\n",
       "      <td>19.43</td>\n",
       "    </tr>\n",
       "    <tr>\n",
       "      <th>1</th>\n",
       "      <td>7/24/20</td>\n",
       "      <td>8/5/20</td>\n",
       "      <td>Not Recovered</td>\n",
       "      <td>65</td>\n",
       "      <td>Female</td>\n",
       "      <td>7/24/20</td>\n",
       "      <td>Paracetamol, Antibiotics,  O2</td>\n",
       "      <td>Yes</td>\n",
       "      <td>40.0</td>\n",
       "      <td>3.0</td>\n",
       "      <td>8.79</td>\n",
       "      <td>180.66</td>\n",
       "      <td>4.39</td>\n",
       "      <td>7.56</td>\n",
       "    </tr>\n",
       "    <tr>\n",
       "      <th>2</th>\n",
       "      <td>7/22/20</td>\n",
       "      <td>8/8/20</td>\n",
       "      <td>Recovered</td>\n",
       "      <td>32</td>\n",
       "      <td>Male</td>\n",
       "      <td>7/22/20</td>\n",
       "      <td>Antibiotics, O2</td>\n",
       "      <td>No</td>\n",
       "      <td>11.7</td>\n",
       "      <td>5.3</td>\n",
       "      <td>9.90</td>\n",
       "      <td>336.00</td>\n",
       "      <td>3.47</td>\n",
       "      <td>5.34</td>\n",
       "    </tr>\n",
       "    <tr>\n",
       "      <th>3</th>\n",
       "      <td>7/19/20</td>\n",
       "      <td>8/5/20</td>\n",
       "      <td>Recovered</td>\n",
       "      <td>36</td>\n",
       "      <td>Female</td>\n",
       "      <td>7/19/20</td>\n",
       "      <td>Antibiotics, O2</td>\n",
       "      <td>No</td>\n",
       "      <td>13.0</td>\n",
       "      <td>5.0</td>\n",
       "      <td>9.95</td>\n",
       "      <td>240.10</td>\n",
       "      <td>0.80</td>\n",
       "      <td>8.66</td>\n",
       "    </tr>\n",
       "    <tr>\n",
       "      <th>4</th>\n",
       "      <td>7/18/20</td>\n",
       "      <td>8/5/20</td>\n",
       "      <td>Recovered</td>\n",
       "      <td>46</td>\n",
       "      <td>Male</td>\n",
       "      <td>7/18/20</td>\n",
       "      <td>Paracetamol, Antibiotics,  O2</td>\n",
       "      <td>No</td>\n",
       "      <td>31.0</td>\n",
       "      <td>3.0</td>\n",
       "      <td>14.15</td>\n",
       "      <td>236.58</td>\n",
       "      <td>7.93</td>\n",
       "      <td>13.02</td>\n",
       "    </tr>\n",
       "  </tbody>\n",
       "</table>\n",
       "</div>"
      ],
      "text/plain": [
       "    a_date  d_date        outcome  patient_age  gender collection_date  \\\n",
       "0  8/10/20  8/8/20  Not Recovered           51    Male         8/10/20   \n",
       "1  7/24/20  8/5/20  Not Recovered           65  Female         7/24/20   \n",
       "2  7/22/20  8/8/20      Recovered           32    Male         7/22/20   \n",
       "3  7/19/20  8/5/20      Recovered           36  Female         7/19/20   \n",
       "4  7/18/20  8/5/20      Recovered           46    Male         7/18/20   \n",
       "\n",
       "                       treatment ventilated  rbc_dis  monocytes  wbc_count  \\\n",
       "0               antibiotics,  O2        Yes     13.2        3.3      21.00   \n",
       "1  Paracetamol, Antibiotics,  O2        Yes     40.0        3.0       8.79   \n",
       "2                Antibiotics, O2         No     11.7        5.3       9.90   \n",
       "3                Antibiotics, O2         No     13.0        5.0       9.95   \n",
       "4  Paracetamol, Antibiotics,  O2         No     31.0        3.0      14.15   \n",
       "\n",
       "   plate_count  lymph_count  neut_count  \n",
       "0       462.00         0.44       19.43  \n",
       "1       180.66         4.39        7.56  \n",
       "2       336.00         3.47        5.34  \n",
       "3       240.10         0.80        8.66  \n",
       "4       236.58         7.93       13.02  "
      ]
     },
     "execution_count": 4,
     "metadata": {},
     "output_type": "execute_result"
    }
   ],
   "source": [
    "#Renaming columns\n",
    "dataset=dataset.rename(columns={'Admission_DATE ': 'a_date', 'Discharge_DATE or date of Death' : 'd_date', 'Outcome':'outcome',\n",
    "       'Patient Age':'patient_age', 'Gender':'gender', 'Sample Collection Date ':'collection_date',\n",
    "       'What kind of Treatment provided ':'treatment', 'Ventilated (Y/N)':'ventilated',\n",
    "       'Red blood cell distribution width':'rbc_dis', 'Monocytes(%)':'monocytes',\n",
    "       'White blood cell count':'wbc_count', 'Platelet Count':'plate_count', 'Lymphocyte Count':'lymph_count',\n",
    "       'Neutrophils Count':'neut_count'})\n",
    "dataset.head()"
   ]
  },
  {
   "cell_type": "code",
   "execution_count": 5,
   "id": "28774e18",
   "metadata": {},
   "outputs": [
    {
     "data": {
      "text/html": [
       "<div>\n",
       "<style scoped>\n",
       "    .dataframe tbody tr th:only-of-type {\n",
       "        vertical-align: middle;\n",
       "    }\n",
       "\n",
       "    .dataframe tbody tr th {\n",
       "        vertical-align: top;\n",
       "    }\n",
       "\n",
       "    .dataframe thead th {\n",
       "        text-align: right;\n",
       "    }\n",
       "</style>\n",
       "<table border=\"1\" class=\"dataframe\">\n",
       "  <thead>\n",
       "    <tr style=\"text-align: right;\">\n",
       "      <th></th>\n",
       "      <th>outcome</th>\n",
       "      <th>patient_age</th>\n",
       "      <th>gender</th>\n",
       "      <th>ventilated</th>\n",
       "      <th>rbc_dis</th>\n",
       "      <th>monocytes</th>\n",
       "      <th>wbc_count</th>\n",
       "      <th>plate_count</th>\n",
       "      <th>lymph_count</th>\n",
       "      <th>neut_count</th>\n",
       "    </tr>\n",
       "  </thead>\n",
       "  <tbody>\n",
       "    <tr>\n",
       "      <th>0</th>\n",
       "      <td>Not Recovered</td>\n",
       "      <td>51</td>\n",
       "      <td>Male</td>\n",
       "      <td>Yes</td>\n",
       "      <td>13.2</td>\n",
       "      <td>3.3</td>\n",
       "      <td>21.00</td>\n",
       "      <td>462.00</td>\n",
       "      <td>0.44</td>\n",
       "      <td>19.43</td>\n",
       "    </tr>\n",
       "    <tr>\n",
       "      <th>1</th>\n",
       "      <td>Not Recovered</td>\n",
       "      <td>65</td>\n",
       "      <td>Female</td>\n",
       "      <td>Yes</td>\n",
       "      <td>40.0</td>\n",
       "      <td>3.0</td>\n",
       "      <td>8.79</td>\n",
       "      <td>180.66</td>\n",
       "      <td>4.39</td>\n",
       "      <td>7.56</td>\n",
       "    </tr>\n",
       "    <tr>\n",
       "      <th>2</th>\n",
       "      <td>Recovered</td>\n",
       "      <td>32</td>\n",
       "      <td>Male</td>\n",
       "      <td>No</td>\n",
       "      <td>11.7</td>\n",
       "      <td>5.3</td>\n",
       "      <td>9.90</td>\n",
       "      <td>336.00</td>\n",
       "      <td>3.47</td>\n",
       "      <td>5.34</td>\n",
       "    </tr>\n",
       "    <tr>\n",
       "      <th>3</th>\n",
       "      <td>Recovered</td>\n",
       "      <td>36</td>\n",
       "      <td>Female</td>\n",
       "      <td>No</td>\n",
       "      <td>13.0</td>\n",
       "      <td>5.0</td>\n",
       "      <td>9.95</td>\n",
       "      <td>240.10</td>\n",
       "      <td>0.80</td>\n",
       "      <td>8.66</td>\n",
       "    </tr>\n",
       "    <tr>\n",
       "      <th>4</th>\n",
       "      <td>Recovered</td>\n",
       "      <td>46</td>\n",
       "      <td>Male</td>\n",
       "      <td>No</td>\n",
       "      <td>31.0</td>\n",
       "      <td>3.0</td>\n",
       "      <td>14.15</td>\n",
       "      <td>236.58</td>\n",
       "      <td>7.93</td>\n",
       "      <td>13.02</td>\n",
       "    </tr>\n",
       "  </tbody>\n",
       "</table>\n",
       "</div>"
      ],
      "text/plain": [
       "         outcome  patient_age  gender ventilated  rbc_dis  monocytes  \\\n",
       "0  Not Recovered           51    Male        Yes     13.2        3.3   \n",
       "1  Not Recovered           65  Female        Yes     40.0        3.0   \n",
       "2      Recovered           32    Male         No     11.7        5.3   \n",
       "3      Recovered           36  Female         No     13.0        5.0   \n",
       "4      Recovered           46    Male         No     31.0        3.0   \n",
       "\n",
       "   wbc_count  plate_count  lymph_count  neut_count  \n",
       "0      21.00       462.00         0.44       19.43  \n",
       "1       8.79       180.66         4.39        7.56  \n",
       "2       9.90       336.00         3.47        5.34  \n",
       "3       9.95       240.10         0.80        8.66  \n",
       "4      14.15       236.58         7.93       13.02  "
      ]
     },
     "execution_count": 5,
     "metadata": {},
     "output_type": "execute_result"
    }
   ],
   "source": [
    "dataset=dataset.drop(['a_date','d_date','collection_date','treatment'], axis=1)\n",
    "dataset.head()"
   ]
  },
  {
   "cell_type": "code",
   "execution_count": 6,
   "id": "c3c4e2ef",
   "metadata": {},
   "outputs": [
    {
     "data": {
      "text/plain": [
       "outcome        0\n",
       "patient_age    0\n",
       "gender         0\n",
       "ventilated     0\n",
       "rbc_dis        0\n",
       "monocytes      0\n",
       "wbc_count      0\n",
       "plate_count    0\n",
       "lymph_count    0\n",
       "neut_count     0\n",
       "dtype: int64"
      ]
     },
     "execution_count": 6,
     "metadata": {},
     "output_type": "execute_result"
    }
   ],
   "source": [
    "dataset.isnull().sum()\n",
    "#no null values"
   ]
  },
  {
   "cell_type": "markdown",
   "id": "e1fd52ac",
   "metadata": {},
   "source": [
    "#### Splitting data into independent and dependent variables"
   ]
  },
  {
   "cell_type": "code",
   "execution_count": 7,
   "id": "6188eafb",
   "metadata": {},
   "outputs": [
    {
     "data": {
      "text/plain": [
       "Index(['outcome', 'patient_age', 'gender', 'ventilated', 'rbc_dis',\n",
       "       'monocytes', 'wbc_count', 'plate_count', 'lymph_count', 'neut_count'],\n",
       "      dtype='object')"
      ]
     },
     "execution_count": 7,
     "metadata": {},
     "output_type": "execute_result"
    }
   ],
   "source": [
    "dataset.columns"
   ]
  },
  {
   "cell_type": "code",
   "execution_count": 8,
   "id": "112db6c8",
   "metadata": {},
   "outputs": [],
   "source": [
    "X=dataset[['patient_age', 'gender', 'ventilated', 'rbc_dis',\n",
    "       'monocytes', 'wbc_count', 'plate_count', 'lymph_count', 'neut_count']]\n",
    "y=dataset[['outcome']]"
   ]
  },
  {
   "cell_type": "code",
   "execution_count": 9,
   "id": "ae8981a2",
   "metadata": {},
   "outputs": [
    {
     "data": {
      "text/html": [
       "<div>\n",
       "<style scoped>\n",
       "    .dataframe tbody tr th:only-of-type {\n",
       "        vertical-align: middle;\n",
       "    }\n",
       "\n",
       "    .dataframe tbody tr th {\n",
       "        vertical-align: top;\n",
       "    }\n",
       "\n",
       "    .dataframe thead th {\n",
       "        text-align: right;\n",
       "    }\n",
       "</style>\n",
       "<table border=\"1\" class=\"dataframe\">\n",
       "  <thead>\n",
       "    <tr style=\"text-align: right;\">\n",
       "      <th></th>\n",
       "      <th>outcome</th>\n",
       "    </tr>\n",
       "  </thead>\n",
       "  <tbody>\n",
       "    <tr>\n",
       "      <th>0</th>\n",
       "      <td>Not Recovered</td>\n",
       "    </tr>\n",
       "    <tr>\n",
       "      <th>1</th>\n",
       "      <td>Not Recovered</td>\n",
       "    </tr>\n",
       "    <tr>\n",
       "      <th>2</th>\n",
       "      <td>Recovered</td>\n",
       "    </tr>\n",
       "    <tr>\n",
       "      <th>3</th>\n",
       "      <td>Recovered</td>\n",
       "    </tr>\n",
       "    <tr>\n",
       "      <th>4</th>\n",
       "      <td>Recovered</td>\n",
       "    </tr>\n",
       "    <tr>\n",
       "      <th>...</th>\n",
       "      <td>...</td>\n",
       "    </tr>\n",
       "    <tr>\n",
       "      <th>304</th>\n",
       "      <td>Recovered</td>\n",
       "    </tr>\n",
       "    <tr>\n",
       "      <th>305</th>\n",
       "      <td>Recovered</td>\n",
       "    </tr>\n",
       "    <tr>\n",
       "      <th>306</th>\n",
       "      <td>Recovered</td>\n",
       "    </tr>\n",
       "    <tr>\n",
       "      <th>307</th>\n",
       "      <td>Recovered</td>\n",
       "    </tr>\n",
       "    <tr>\n",
       "      <th>308</th>\n",
       "      <td>Recovered</td>\n",
       "    </tr>\n",
       "  </tbody>\n",
       "</table>\n",
       "<p>309 rows × 1 columns</p>\n",
       "</div>"
      ],
      "text/plain": [
       "           outcome\n",
       "0    Not Recovered\n",
       "1    Not Recovered\n",
       "2        Recovered\n",
       "3        Recovered\n",
       "4        Recovered\n",
       "..             ...\n",
       "304      Recovered\n",
       "305      Recovered\n",
       "306      Recovered\n",
       "307      Recovered\n",
       "308      Recovered\n",
       "\n",
       "[309 rows x 1 columns]"
      ]
     },
     "execution_count": 9,
     "metadata": {},
     "output_type": "execute_result"
    }
   ],
   "source": [
    "y"
   ]
  },
  {
   "cell_type": "markdown",
   "id": "de4321f0",
   "metadata": {},
   "source": [
    "#### Encoding Categorical Data"
   ]
  },
  {
   "cell_type": "code",
   "execution_count": 10,
   "id": "f270d147",
   "metadata": {},
   "outputs": [],
   "source": [
    "X=pd.get_dummies(X, columns=[\"gender\",\"ventilated\"], drop_first=True)"
   ]
  },
  {
   "cell_type": "code",
   "execution_count": 11,
   "id": "6bc2bec9",
   "metadata": {},
   "outputs": [
    {
     "data": {
      "text/html": [
       "<div>\n",
       "<style scoped>\n",
       "    .dataframe tbody tr th:only-of-type {\n",
       "        vertical-align: middle;\n",
       "    }\n",
       "\n",
       "    .dataframe tbody tr th {\n",
       "        vertical-align: top;\n",
       "    }\n",
       "\n",
       "    .dataframe thead th {\n",
       "        text-align: right;\n",
       "    }\n",
       "</style>\n",
       "<table border=\"1\" class=\"dataframe\">\n",
       "  <thead>\n",
       "    <tr style=\"text-align: right;\">\n",
       "      <th></th>\n",
       "      <th>patient_age</th>\n",
       "      <th>rbc_dis</th>\n",
       "      <th>monocytes</th>\n",
       "      <th>wbc_count</th>\n",
       "      <th>plate_count</th>\n",
       "      <th>lymph_count</th>\n",
       "      <th>neut_count</th>\n",
       "      <th>gender_Male</th>\n",
       "      <th>ventilated_Yes</th>\n",
       "    </tr>\n",
       "  </thead>\n",
       "  <tbody>\n",
       "    <tr>\n",
       "      <th>0</th>\n",
       "      <td>51</td>\n",
       "      <td>13.2</td>\n",
       "      <td>3.3</td>\n",
       "      <td>21.00</td>\n",
       "      <td>462.00</td>\n",
       "      <td>0.44</td>\n",
       "      <td>19.43</td>\n",
       "      <td>1</td>\n",
       "      <td>1</td>\n",
       "    </tr>\n",
       "    <tr>\n",
       "      <th>1</th>\n",
       "      <td>65</td>\n",
       "      <td>40.0</td>\n",
       "      <td>3.0</td>\n",
       "      <td>8.79</td>\n",
       "      <td>180.66</td>\n",
       "      <td>4.39</td>\n",
       "      <td>7.56</td>\n",
       "      <td>0</td>\n",
       "      <td>1</td>\n",
       "    </tr>\n",
       "    <tr>\n",
       "      <th>2</th>\n",
       "      <td>32</td>\n",
       "      <td>11.7</td>\n",
       "      <td>5.3</td>\n",
       "      <td>9.90</td>\n",
       "      <td>336.00</td>\n",
       "      <td>3.47</td>\n",
       "      <td>5.34</td>\n",
       "      <td>1</td>\n",
       "      <td>0</td>\n",
       "    </tr>\n",
       "    <tr>\n",
       "      <th>3</th>\n",
       "      <td>36</td>\n",
       "      <td>13.0</td>\n",
       "      <td>5.0</td>\n",
       "      <td>9.95</td>\n",
       "      <td>240.10</td>\n",
       "      <td>0.80</td>\n",
       "      <td>8.66</td>\n",
       "      <td>0</td>\n",
       "      <td>0</td>\n",
       "    </tr>\n",
       "    <tr>\n",
       "      <th>4</th>\n",
       "      <td>46</td>\n",
       "      <td>31.0</td>\n",
       "      <td>3.0</td>\n",
       "      <td>14.15</td>\n",
       "      <td>236.58</td>\n",
       "      <td>7.93</td>\n",
       "      <td>13.02</td>\n",
       "      <td>1</td>\n",
       "      <td>0</td>\n",
       "    </tr>\n",
       "  </tbody>\n",
       "</table>\n",
       "</div>"
      ],
      "text/plain": [
       "   patient_age  rbc_dis  monocytes  wbc_count  plate_count  lymph_count  \\\n",
       "0           51     13.2        3.3      21.00       462.00         0.44   \n",
       "1           65     40.0        3.0       8.79       180.66         4.39   \n",
       "2           32     11.7        5.3       9.90       336.00         3.47   \n",
       "3           36     13.0        5.0       9.95       240.10         0.80   \n",
       "4           46     31.0        3.0      14.15       236.58         7.93   \n",
       "\n",
       "   neut_count  gender_Male  ventilated_Yes  \n",
       "0       19.43            1               1  \n",
       "1        7.56            0               1  \n",
       "2        5.34            1               0  \n",
       "3        8.66            0               0  \n",
       "4       13.02            1               0  "
      ]
     },
     "execution_count": 11,
     "metadata": {},
     "output_type": "execute_result"
    }
   ],
   "source": [
    "X.head()"
   ]
  },
  {
   "cell_type": "markdown",
   "id": "75ec0af9",
   "metadata": {},
   "source": [
    "#### Splitting data into training and test sets"
   ]
  },
  {
   "cell_type": "code",
   "execution_count": 12,
   "id": "07592023",
   "metadata": {},
   "outputs": [],
   "source": [
    "from sklearn.model_selection import train_test_split\n",
    "X_train, X_test, y_train, y_test=train_test_split(X,y,\n",
    "                                                 test_size=.2,\n",
    "                                                 random_state=50)\n",
    "X_test, X_val, y_test, y_val=train_test_split(X_test, y_test, test_size=.50, random_state=50)"
   ]
  },
  {
   "cell_type": "markdown",
   "id": "ee7663f3",
   "metadata": {},
   "source": [
    "#### Logistic Regression"
   ]
  },
  {
   "cell_type": "code",
   "execution_count": 13,
   "id": "6759c51a",
   "metadata": {},
   "outputs": [
    {
     "data": {
      "text/plain": [
       "LogisticRegression(max_iter=1000)"
      ]
     },
     "execution_count": 13,
     "metadata": {},
     "output_type": "execute_result"
    }
   ],
   "source": [
    "from sklearn.linear_model import LogisticRegression\n",
    "classifier=LogisticRegression(max_iter=1000)\n",
    "classifier.fit(X_train.values, y_train.values.ravel())"
   ]
  },
  {
   "cell_type": "code",
   "execution_count": 14,
   "id": "33723344",
   "metadata": {},
   "outputs": [],
   "source": [
    "y_pred=classifier.predict(X_test.values)"
   ]
  },
  {
   "cell_type": "code",
   "execution_count": 15,
   "id": "71cbeec8",
   "metadata": {},
   "outputs": [
    {
     "name": "stdout",
     "output_type": "stream",
     "text": [
      "Score is 0.9354838709677419\n"
     ]
    }
   ],
   "source": [
    "score = classifier.score(X_test.values, y_test)\n",
    "print(\"Score is\", score)"
   ]
  },
  {
   "cell_type": "code",
   "execution_count": 16,
   "id": "3925408b",
   "metadata": {},
   "outputs": [
    {
     "name": "stdout",
     "output_type": "stream",
     "text": [
      "Score is 0.9459459459459459\n"
     ]
    }
   ],
   "source": [
    "X_train, X_test, y_train, y_test = train_test_split(X, y, test_size=.20, random_state=50)\n",
    "X_test, X_val, y_test, y_val     = train_test_split(X_test, y_test, test_size=.40, random_state=50)\n",
    "classifier = LogisticRegression(max_iter=1000)\n",
    "classifier.fit(X_train.values, y_train.values.ravel())\n",
    "score1 = classifier.score(X_test.values, y_test)\n",
    "print(\"Score is\", score1)"
   ]
  },
  {
   "cell_type": "code",
   "execution_count": 17,
   "id": "410b50ba",
   "metadata": {},
   "outputs": [
    {
     "name": "stdout",
     "output_type": "stream",
     "text": [
      "Score is 0.9782608695652174\n"
     ]
    }
   ],
   "source": [
    "X_train, X_test, y_train, y_test = train_test_split(X, y, test_size=.30, random_state=50)\n",
    "X_test, X_val, y_test, y_val     = train_test_split(X_test, y_test, test_size=.50, random_state=50)\n",
    "classifier = LogisticRegression(max_iter=1000)\n",
    "classifier.fit(X_train.values, y_train.values.ravel())\n",
    "score2 = classifier.score(X_test.values, y_test)\n",
    "print(\"Score is\", score2)"
   ]
  },
  {
   "cell_type": "code",
   "execution_count": 18,
   "id": "57724f46",
   "metadata": {},
   "outputs": [
    {
     "name": "stdout",
     "output_type": "stream",
     "text": [
      "Score is 0.9818181818181818\n"
     ]
    }
   ],
   "source": [
    "X_train, X_test, y_train, y_test = train_test_split(X, y, test_size=.30, random_state=50)\n",
    "X_test, X_val, y_test, y_val     = train_test_split(X_test, y_test, test_size=.40, random_state=50)\n",
    "classifier = LogisticRegression(max_iter=1000)\n",
    "classifier.fit(X_train.values, y_train.values.ravel())\n",
    "score3 = classifier.score(X_test.values, y_test)\n",
    "print(\"Score is\", score3)"
   ]
  },
  {
   "cell_type": "code",
   "execution_count": 19,
   "id": "0ecd8639",
   "metadata": {},
   "outputs": [
    {
     "name": "stdout",
     "output_type": "stream",
     "text": [
      "Coefficients [[-0.04824655 -0.07360523 -0.42731959  0.0864592   0.03462343  0.55138387\n",
      "  -0.85397607 -0.7148422  -4.14369041]]\n",
      "Intercept [6.11008906]\n"
     ]
    }
   ],
   "source": [
    "print(\"Coefficients\", classifier.coef_)\n",
    "print(\"Intercept\", classifier.intercept_)"
   ]
  },
  {
   "cell_type": "markdown",
   "id": "52f7354e",
   "metadata": {},
   "source": [
    "#### Results"
   ]
  },
  {
   "cell_type": "code",
   "execution_count": 20,
   "id": "4f11ce6e",
   "metadata": {},
   "outputs": [
    {
     "data": {
      "text/html": [
       "<div>\n",
       "<style scoped>\n",
       "    .dataframe tbody tr th:only-of-type {\n",
       "        vertical-align: middle;\n",
       "    }\n",
       "\n",
       "    .dataframe tbody tr th {\n",
       "        vertical-align: top;\n",
       "    }\n",
       "\n",
       "    .dataframe thead th {\n",
       "        text-align: right;\n",
       "    }\n",
       "</style>\n",
       "<table border=\"1\" class=\"dataframe\">\n",
       "  <thead>\n",
       "    <tr style=\"text-align: right;\">\n",
       "      <th></th>\n",
       "      <th>patient_age</th>\n",
       "      <th>rbc_dis</th>\n",
       "      <th>monocytes</th>\n",
       "      <th>wbc_count</th>\n",
       "      <th>plate_count</th>\n",
       "      <th>lymph_count</th>\n",
       "      <th>neut_count</th>\n",
       "      <th>gender_Male</th>\n",
       "      <th>ventilated_Yes</th>\n",
       "    </tr>\n",
       "  </thead>\n",
       "  <tbody>\n",
       "    <tr>\n",
       "      <th>173</th>\n",
       "      <td>71</td>\n",
       "      <td>73.0</td>\n",
       "      <td>4.0</td>\n",
       "      <td>7.40</td>\n",
       "      <td>170.90</td>\n",
       "      <td>3.70</td>\n",
       "      <td>6.14</td>\n",
       "      <td>0</td>\n",
       "      <td>1</td>\n",
       "    </tr>\n",
       "    <tr>\n",
       "      <th>20</th>\n",
       "      <td>68</td>\n",
       "      <td>13.2</td>\n",
       "      <td>3.3</td>\n",
       "      <td>21.00</td>\n",
       "      <td>462.00</td>\n",
       "      <td>0.44</td>\n",
       "      <td>19.43</td>\n",
       "      <td>1</td>\n",
       "      <td>1</td>\n",
       "    </tr>\n",
       "    <tr>\n",
       "      <th>127</th>\n",
       "      <td>63</td>\n",
       "      <td>65.0</td>\n",
       "      <td>3.0</td>\n",
       "      <td>13.03</td>\n",
       "      <td>269.72</td>\n",
       "      <td>5.47</td>\n",
       "      <td>12.37</td>\n",
       "      <td>1</td>\n",
       "      <td>1</td>\n",
       "    </tr>\n",
       "    <tr>\n",
       "      <th>39</th>\n",
       "      <td>48</td>\n",
       "      <td>23.0</td>\n",
       "      <td>3.0</td>\n",
       "      <td>12.56</td>\n",
       "      <td>252.79</td>\n",
       "      <td>7.28</td>\n",
       "      <td>11.68</td>\n",
       "      <td>0</td>\n",
       "      <td>0</td>\n",
       "    </tr>\n",
       "    <tr>\n",
       "      <th>238</th>\n",
       "      <td>65</td>\n",
       "      <td>16.8</td>\n",
       "      <td>5.8</td>\n",
       "      <td>9.00</td>\n",
       "      <td>225.00</td>\n",
       "      <td>1.29</td>\n",
       "      <td>6.56</td>\n",
       "      <td>1</td>\n",
       "      <td>1</td>\n",
       "    </tr>\n",
       "  </tbody>\n",
       "</table>\n",
       "</div>"
      ],
      "text/plain": [
       "     patient_age  rbc_dis  monocytes  wbc_count  plate_count  lymph_count  \\\n",
       "173           71     73.0        4.0       7.40       170.90         3.70   \n",
       "20            68     13.2        3.3      21.00       462.00         0.44   \n",
       "127           63     65.0        3.0      13.03       269.72         5.47   \n",
       "39            48     23.0        3.0      12.56       252.79         7.28   \n",
       "238           65     16.8        5.8       9.00       225.00         1.29   \n",
       "\n",
       "     neut_count  gender_Male  ventilated_Yes  \n",
       "173        6.14            0               1  \n",
       "20        19.43            1               1  \n",
       "127       12.37            1               1  \n",
       "39        11.68            0               0  \n",
       "238        6.56            1               1  "
      ]
     },
     "execution_count": 20,
     "metadata": {},
     "output_type": "execute_result"
    }
   ],
   "source": [
    "X_test.head()"
   ]
  },
  {
   "cell_type": "code",
   "execution_count": 21,
   "id": "ff0d677c",
   "metadata": {},
   "outputs": [
    {
     "data": {
      "text/html": [
       "<div>\n",
       "<style scoped>\n",
       "    .dataframe tbody tr th:only-of-type {\n",
       "        vertical-align: middle;\n",
       "    }\n",
       "\n",
       "    .dataframe tbody tr th {\n",
       "        vertical-align: top;\n",
       "    }\n",
       "\n",
       "    .dataframe thead th {\n",
       "        text-align: right;\n",
       "    }\n",
       "</style>\n",
       "<table border=\"1\" class=\"dataframe\">\n",
       "  <thead>\n",
       "    <tr style=\"text-align: right;\">\n",
       "      <th></th>\n",
       "      <th>Actual</th>\n",
       "      <th>Predicted</th>\n",
       "    </tr>\n",
       "  </thead>\n",
       "  <tbody>\n",
       "    <tr>\n",
       "      <th>0</th>\n",
       "      <td>Not Recovered</td>\n",
       "      <td>Not Recovered</td>\n",
       "    </tr>\n",
       "    <tr>\n",
       "      <th>1</th>\n",
       "      <td>Not Recovered</td>\n",
       "      <td>Not Recovered</td>\n",
       "    </tr>\n",
       "    <tr>\n",
       "      <th>2</th>\n",
       "      <td>Not Recovered</td>\n",
       "      <td>Not Recovered</td>\n",
       "    </tr>\n",
       "    <tr>\n",
       "      <th>3</th>\n",
       "      <td>Recovered</td>\n",
       "      <td>Recovered</td>\n",
       "    </tr>\n",
       "    <tr>\n",
       "      <th>4</th>\n",
       "      <td>Not Recovered</td>\n",
       "      <td>Not Recovered</td>\n",
       "    </tr>\n",
       "    <tr>\n",
       "      <th>5</th>\n",
       "      <td>Not Recovered</td>\n",
       "      <td>Not Recovered</td>\n",
       "    </tr>\n",
       "    <tr>\n",
       "      <th>6</th>\n",
       "      <td>Recovered</td>\n",
       "      <td>Recovered</td>\n",
       "    </tr>\n",
       "    <tr>\n",
       "      <th>7</th>\n",
       "      <td>Recovered</td>\n",
       "      <td>Recovered</td>\n",
       "    </tr>\n",
       "    <tr>\n",
       "      <th>8</th>\n",
       "      <td>Not Recovered</td>\n",
       "      <td>Not Recovered</td>\n",
       "    </tr>\n",
       "    <tr>\n",
       "      <th>9</th>\n",
       "      <td>Recovered</td>\n",
       "      <td>Recovered</td>\n",
       "    </tr>\n",
       "  </tbody>\n",
       "</table>\n",
       "</div>"
      ],
      "text/plain": [
       "          Actual      Predicted\n",
       "0  Not Recovered  Not Recovered\n",
       "1  Not Recovered  Not Recovered\n",
       "2  Not Recovered  Not Recovered\n",
       "3      Recovered      Recovered\n",
       "4  Not Recovered  Not Recovered\n",
       "5  Not Recovered  Not Recovered\n",
       "6      Recovered      Recovered\n",
       "7      Recovered      Recovered\n",
       "8  Not Recovered  Not Recovered\n",
       "9      Recovered      Recovered"
      ]
     },
     "execution_count": 21,
     "metadata": {},
     "output_type": "execute_result"
    }
   ],
   "source": [
    "y_pred = classifier.predict(X_test.values)\n",
    "\n",
    "# Convert 2D array to 1D so we can use a dataframe to view results\n",
    "y_test = np.ravel(y_test)\n",
    "y_pred = np.ravel(y_pred)\n",
    "\n",
    "\n",
    "pred_view = pd.DataFrame({'Actual': y_test, 'Predicted': y_pred})\n",
    "pred_view.head(10)"
   ]
  },
  {
   "cell_type": "code",
   "execution_count": 22,
   "id": "8c82cab0",
   "metadata": {},
   "outputs": [
    {
     "name": "stdout",
     "output_type": "stream",
     "text": [
      "[[20  0]\n",
      " [ 1 34]]\n"
     ]
    }
   ],
   "source": [
    "from sklearn.metrics import confusion_matrix,accuracy_score,confusion_matrix\n",
    "cm=confusion_matrix(y_test,y_pred)\n",
    "print(cm)"
   ]
  },
  {
   "cell_type": "code",
   "execution_count": 23,
   "id": "b791dbbc",
   "metadata": {},
   "outputs": [
    {
     "data": {
      "image/png": "[encoded data removed]",
      "text/plain": [
       "<Figure size 432x288 with 2 Axes>"
      ]
     },
     "metadata": {
      "needs_background": "light"
     },
     "output_type": "display_data"
    }
   ],
   "source": [
    "from sklearn.metrics import ConfusionMatrixDisplay\n",
    "disp=ConfusionMatrixDisplay(confusion_matrix=cm,\n",
    "                           display_labels=classifier.classes_)\n",
    "disp.plot()\n",
    "plt.show()"
   ]
  },
  {
   "cell_type": "code",
   "execution_count": 24,
   "id": "dec5b81a",
   "metadata": {
    "scrolled": true
   },
   "outputs": [
    {
     "name": "stdout",
     "output_type": "stream",
     "text": [
      "               precision    recall  f1-score   support\n",
      "\n",
      "Not Recovered       0.95      1.00      0.98        20\n",
      "    Recovered       1.00      0.97      0.99        35\n",
      "\n",
      "     accuracy                           0.98        55\n",
      "    macro avg       0.98      0.99      0.98        55\n",
      " weighted avg       0.98      0.98      0.98        55\n",
      "\n"
     ]
    }
   ],
   "source": [
    "from sklearn.metrics import classification_report\n",
    "class_report = classification_report(y_test, y_pred)\n",
    "print(class_report)"
   ]
  }
 ],
 "metadata": {
  "kernelspec": {
   "display_name": "Python 3 (ipykernel)",
   "language": "python",
   "name": "python3"
  },
  "language_info": {
   "codemirror_mode": {
    "name": "ipython",
    "version": 3
   },
   "file_extension": ".py",
   "mimetype": "text/x-python",
   "name": "python",
   "nbconvert_exporter": "python",
   "pygments_lexer": "ipython3",
   "version": "3.9.12"
  }
 },
 "nbformat": 4,
 "nbformat_minor": 5
}
